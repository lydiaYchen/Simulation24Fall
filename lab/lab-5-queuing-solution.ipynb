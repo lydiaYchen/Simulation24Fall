{
 "cells": [
  {
   "cell_type": "markdown",
   "metadata": {},
   "source": [
    "## Coding exercises"
   ]
  },
  {
   "cell_type": "code",
   "execution_count": null,
   "metadata": {},
   "outputs": [],
   "source": [
    "from typing import Generator, Literal, cast\n",
    "\n",
    "import matplotlib.pyplot as plt\n",
    "import numpy as np\n",
    "import simpy\n",
    "from matplotlib.axes import Axes\n",
    "from matplotlib.figure import Figure\n",
    "\n",
    "RNG = np.random.default_rng(seed=0)"
   ]
  },
  {
   "cell_type": "markdown",
   "metadata": {},
   "source": [
    "For all exercises below, consider the following open network, along with its default arguments/parameters:"
   ]
  },
  {
   "cell_type": "code",
   "execution_count": null,
   "metadata": {},
   "outputs": [],
   "source": [
    "class OpenNet:\n",
    "    def __init__(self, lambda_i=0.1, lambda_cpu=1.0, lambda_disk=0.2) -> None:\n",
    "        self.env = simpy.Environment()\n",
    "        self.beta_i = 1. / lambda_i\n",
    "        self.beta_cpu = 1. / lambda_cpu\n",
    "        self.beta_disk = 1. / lambda_disk\n",
    "        self.cpu = simpy.Resource(self.env, capacity=1)\n",
    "        self.disk = simpy.Resource(self.env, capacity=1)\n",
    "\n",
    "        self.current_jobs_in_system = 0\n",
    "        self.log_jobs_in_system: list[int] = []\n",
    "\n",
    "        self.e_t_acc = 0.\n",
    "        self.n_served_jobs = 0\n",
    "        self.rho_cpu_acc = 0\n",
    "        self.rho_disk_acc = 0\n",
    "        self.rho_sys_acc = 0\n",
    "\n",
    "    def system_generator(self) -> Generator:\n",
    "        job_start_time = self.env.now\n",
    "        rho_cpu = self.cpu.count / self.cpu.capacity\n",
    "        rho_disk = self.disk.count / self.disk.capacity\n",
    "        self.rho_cpu_acc += rho_cpu\n",
    "        self.rho_disk_acc += rho_disk\n",
    "        self.rho_sys_acc += rho_cpu or rho_disk\n",
    "\n",
    "        self.log_jobs_in_system.append(self.current_jobs_in_system)\n",
    "        self.current_jobs_in_system += 1\n",
    "\n",
    "        with self.cpu.request() as request:\n",
    "            yield request\n",
    "            yield self.env.timeout(RNG.exponential(scale=self.beta_cpu))\n",
    "\n",
    "        with self.disk.request() as request:\n",
    "            yield request\n",
    "            yield self.env.timeout(RNG.exponential(scale=self.beta_disk))\n",
    "\n",
    "        self.current_jobs_in_system -= 1\n",
    "\n",
    "        self.e_t_acc += self.env.now - job_start_time\n",
    "        self.n_served_jobs += 1\n",
    "\n",
    "    def job_generator(self) -> Generator:\n",
    "        while True:\n",
    "            yield self.env.timeout(RNG.exponential(self.beta_i))\n",
    "            self.env.process(self.system_generator())\n",
    "\n",
    "    def run(self, t: float) -> \"OpenNet\":\n",
    "        self.env.process(self.job_generator())\n",
    "        self.env.run(until=t)\n",
    "\n",
    "        return self\n",
    "\n",
    "    def expected_response_time(self) -> float:\n",
    "        return self.e_t_acc / self.n_served_jobs\n",
    "\n",
    "    def expected_jobs_in_system(self) -> float:\n",
    "        return sum(self.log_jobs_in_system) / len(self.log_jobs_in_system)\n",
    "\n",
    "    def utilization(self, component: Literal[\"cpu\", \"disk\", \"sys\"]) -> float:\n",
    "        rho_acc = {\n",
    "            \"cpu\": self.rho_cpu_acc,\n",
    "            \"disk\": self.rho_disk_acc,\n",
    "            \"sys\": self.rho_sys_acc\n",
    "        }[component]\n",
    "\n",
    "        return rho_acc / len(self.log_jobs_in_system)\n",
    "\n",
    "    def system_throughput(self) -> float:\n",
    "        return self.n_served_jobs / self.env.now"
   ]
  },
  {
   "cell_type": "markdown",
   "metadata": {},
   "source": [
    "### 1. Transient removal: Batch means"
   ]
  },
  {
   "cell_type": "markdown",
   "metadata": {},
   "source": [
    "Use batch means method to analyze the transient period of the given network.\n",
    "\n",
    "The function template below takes as input arguments:\n",
    "\n",
    "- `sim_length` - the number of time units for which to run the simulation\n",
    "- `max_bs` - the maximum batch size to consider\n",
    "\n",
    "Fill in the contents to return a list with the variance of the number of jobs in the system for all batch sizes from 2, as the first index, up to `max_bs` (included)."
   ]
  },
  {
   "cell_type": "code",
   "execution_count": null,
   "metadata": {},
   "outputs": [],
   "source": [
    "def transient_batch_means(sim_length=100000, max_bs=400) -> list[float]:\n",
    "    variances: list[float] = []\n",
    "    log_jobs_in_system = OpenNet().run(sim_length).log_jobs_in_system\n",
    "\n",
    "    for n in range(2, max_bs + 1):\n",
    "        m = len(log_jobs_in_system) // n\n",
    "        batch_observations = np.array_split(log_jobs_in_system[:n * m], m)\n",
    "        batch_means = np.array([np.mean(bo) for bo in batch_observations])\n",
    "        var = batch_means.var(ddof=1)\n",
    "        variances.append(var)\n",
    "\n",
    "    return variances"
   ]
  },
  {
   "cell_type": "markdown",
   "metadata": {},
   "source": [
    "The code below uses the `plot_batch_means` function to visualize the relation between batch size and variance.\n",
    "\n",
    "Inspect the output figure to check for a suitable transient period cutoff."
   ]
  },
  {
   "cell_type": "code",
   "execution_count": null,
   "metadata": {},
   "outputs": [],
   "source": [
    "def plot_batch_means(variances_n: list[float]) -> Figure:\n",
    "    ax: Axes\n",
    "    fig, ax = plt.subplots()\n",
    "    ax.set_xlabel(\"Batch size n\")\n",
    "    ax.set_ylabel(\"Variance # jobs in system\")\n",
    "    ax.plot(np.arange(len(variances_n)) + 2, variances_n)\n",
    "    plt.close(fig)\n",
    "\n",
    "    return fig\n",
    "\n",
    "variances_n = transient_batch_means()\n",
    "plot_batch_means(variances_n)"
   ]
  },
  {
   "cell_type": "markdown",
   "metadata": {},
   "source": [
    "### 2. Simulation stopping: Batch means"
   ]
  },
  {
   "cell_type": "markdown",
   "metadata": {},
   "source": [
    "Use the same batch means method to analyze the stopping period of the given network.\n",
    "\n",
    "The function template below takes as input arguments:\n",
    "\n",
    "- `sim_length` - the number of time units for which to run the simulation\n",
    "- `transient_length` - the number of jobs to consider as part of the transient period\n",
    "- `max_bs_exp` - maximum exponent to consider for the batch size.\n",
    "\n",
    "Consider only the batch sizes $2^0, 2^1, ..., 2^{max\\_bs}$.\n",
    "\n",
    "Remember to discard the first `transient_length` jobs before calculating any statistics.\n",
    "\n",
    "The autocovariance formula, if considering that the first observation has index $i=1$, is:\n",
    "\n",
    "$$\\frac{1}{m-2} \\sum_{i=1}^{m-1} (\\bar{x}_i - \\bar{\\bar{x}}) (\\bar{x}_{i+1} - \\bar{\\bar{x}})$$\n",
    "\n",
    "where:\n",
    "\n",
    "- $\\bar{x}_i$ - mean of batch $i$\n",
    "- $\\bar{\\bar{x}}$ - mean of all batches ($\\bar{x}_1$, $\\bar{x}_2$, ..., $\\bar{x}_m$)\n",
    "\n",
    "Fill in the contents to return a list with tuples, one for each outlined batch size, containing the autocovariance and variance of the number of jobs in the system."
   ]
  },
  {
   "cell_type": "code",
   "execution_count": null,
   "metadata": {},
   "outputs": [],
   "source": [
    "def stopping_batch_means(\n",
    "        sim_length=400000, transient_length=50, max_bs_exp=10) -> list[tuple[float, float]]:\n",
    "    autocovariances_variances: list[tuple[float, float]] = []\n",
    "    log_jobs_in_system = OpenNet().run(sim_length).log_jobs_in_system[transient_length:]\n",
    "\n",
    "    for n_pow in range(max_bs_exp + 1):\n",
    "        n = 2 ** n_pow\n",
    "        m = len(log_jobs_in_system) // n\n",
    "        batch_observations = np.array_split(log_jobs_in_system[:n * m], m)\n",
    "        batch_means = np.array([np.mean(bo) for bo in batch_observations])\n",
    "        var = batch_means.var(ddof=1)\n",
    "        batch_means_minus_mean = batch_means - np.mean(batch_means)\n",
    "        autocovar = (batch_means_minus_mean[:-1] * batch_means_minus_mean[1:]).sum() \\\n",
    "            / (m - 2)\n",
    "        autocovariances_variances.append((autocovar, var))\n",
    "\n",
    "    return autocovariances_variances"
   ]
  },
  {
   "cell_type": "markdown",
   "metadata": {},
   "source": [
    "The code below uses the `stopping_batch_means` function to print the relation between batch size and (autoco)variance.\n",
    "\n",
    "Inspect the output text to check for a suitable stopping period."
   ]
  },
  {
   "cell_type": "code",
   "execution_count": null,
   "metadata": {},
   "outputs": [],
   "source": [
    "autocovariances_covariances_n_exp = stopping_batch_means()\n",
    "\n",
    "for i, (autocovar, var) in enumerate(autocovariances_covariances_n_exp):\n",
    "    print(\n",
    "        f\"Batch size {2 ** i}\",\n",
    "        f\"Autocovariance {autocovar:.4f}\",\n",
    "        f\"Variance {var:.4f}\", sep=\"\\t\")"
   ]
  },
  {
   "cell_type": "markdown",
   "metadata": {},
   "source": [
    "### 3. Operational laws"
   ]
  },
  {
   "cell_type": "markdown",
   "metadata": {},
   "source": [
    "Reuse the statistics from the network simulation below for all laws below.\n",
    "\n",
    "Given the relatively short warmup period and the lengthy simulation for a relatively simple network, you can leave in the transient for the following exercises."
   ]
  },
  {
   "cell_type": "code",
   "execution_count": null,
   "metadata": {},
   "outputs": [],
   "source": [
    "net = OpenNet().run(1000000)"
   ]
  },
  {
   "cell_type": "markdown",
   "metadata": {},
   "source": [
    "#### Little's law"
   ]
  },
  {
   "cell_type": "markdown",
   "metadata": {},
   "source": [
    "Check that the empirical estimate for the expected number of jobs in the system $E[N]$ closely matches the one given by Little's law for open systems ($E[N] = \\lambda E[T]$).\n",
    "\n",
    "Use the empirical estimate for a job's time in the system as $E[T]$."
   ]
  },
  {
   "cell_type": "code",
   "execution_count": null,
   "metadata": {},
   "outputs": [],
   "source": [
    "e_n_sim = net.expected_jobs_in_system()\n",
    "e_t_sim = net.expected_response_time()\n",
    "e_n_law = (1 / net.beta_i) * e_t_sim\n",
    "\n",
    "print(f\"Sim: {e_n_sim:.4f}\")\n",
    "print(f\"Law: {e_n_law:.4f}\")"
   ]
  },
  {
   "cell_type": "markdown",
   "metadata": {},
   "source": [
    "#### Utilization law"
   ]
  },
  {
   "cell_type": "markdown",
   "metadata": {},
   "source": [
    "Check that the empirical estimate for CPU utilization $\\rho_{CPU}$ closely matches the one given by the utilization law ($\\rho_{CPU}=\\frac{\\lambda_{CPU}}{\\mu_{CPU}}$), where $\\lambda_{CPU} = \\lambda_i$."
   ]
  },
  {
   "cell_type": "code",
   "execution_count": null,
   "metadata": {},
   "outputs": [],
   "source": [
    "rho_cpu_sim = net.utilization(\"cpu\")\n",
    "rho_cpu_law = (1 / net.beta_i) * net.beta_cpu\n",
    "\n",
    "print(f\"Sim: {rho_cpu_sim:.4f}\")\n",
    "print(f\"Law: {rho_cpu_law:.4f}\")"
   ]
  },
  {
   "cell_type": "markdown",
   "metadata": {},
   "source": [
    "#### Bottleneck law"
   ]
  },
  {
   "cell_type": "markdown",
   "metadata": {},
   "source": [
    "Check the empirical estimation for the utilization of the whole system $\\rho$ and the corresponding throughput $X$.\n",
    "\n",
    "Compare the change in the two metrics when rerunning the simulation with a slower CPU having $\\lambda_{CPU} = 0.25$, or disk $\\lambda_{disk}=0.05$."
   ]
  },
  {
   "cell_type": "code",
   "execution_count": null,
   "metadata": {},
   "outputs": [],
   "source": [
    "rho_sys = net.utilization(\"sys\")\n",
    "x_sys = net.system_throughput()\n",
    "\n",
    "print(f\"Initial system utilization: {rho_sys:.4f}\")\n",
    "print(f\"Initial system throughput: {x_sys:.4f}\")"
   ]
  },
  {
   "cell_type": "markdown",
   "metadata": {},
   "source": [
    "##### Slower CPU"
   ]
  },
  {
   "cell_type": "code",
   "execution_count": null,
   "metadata": {},
   "outputs": [],
   "source": [
    "net_slower_cpu = OpenNet(lambda_cpu=0.25).run(1000000)\n",
    "rho_sys_slower_cpu = net_slower_cpu.utilization(\"sys\")\n",
    "x_slower_cpu = net_slower_cpu.system_throughput()\n",
    "\n",
    "print(f\"System utilization with a slower CPU: {rho_sys_slower_cpu:.4f}\")\n",
    "print(f\"System throughput with a slower CPU: {x_slower_cpu:.4f}\")"
   ]
  },
  {
   "cell_type": "markdown",
   "metadata": {},
   "source": [
    "##### Slower Disk"
   ]
  },
  {
   "cell_type": "code",
   "execution_count": null,
   "metadata": {},
   "outputs": [],
   "source": [
    "net_slower_disk = OpenNet(lambda_disk=0.02).run(1000000)\n",
    "rho_sys_slower_disk = net_slower_disk.utilization(\"sys\")\n",
    "x_slower_disk = net_slower_disk.system_throughput()\n",
    "\n",
    "print(f\"System utilization with a slower disk: {rho_sys_slower_disk:.4f}\")\n",
    "print(f\"System throughput with a slower disk: {x_slower_disk:.4f}\")"
   ]
  },
  {
   "cell_type": "markdown",
   "metadata": {},
   "source": [
    "Create a single plot with the utilization and throughput for the default $\\lambda_{CPU}$, and the following $\\lambda_{disk}$ values: $0.0125, 0.025, 0.05, 0.1, 0.2, 0.4$.\n",
    "\n",
    "You may run simulations for shorter to reduce the total computation time required.\n",
    "\n",
    "Check how the rate of change for the two quantities behaves over the additional data points."
   ]
  },
  {
   "cell_type": "code",
   "execution_count": null,
   "metadata": {},
   "outputs": [],
   "source": [
    "lambda_disk_list = [0.0125, 0.025, 0.05, 0.1, 0.2, 0.4]\n",
    "sys_utilization_list: list[float] = []\n",
    "sys_throughput_list: list[float] = []\n",
    "\n",
    "for lambda_disk in lambda_disk_list:\n",
    "    net_ = OpenNet(lambda_disk=lambda_disk).run(100000)\n",
    "    sys_utilization_list.append(net_.utilization(\"sys\"))\n",
    "    sys_throughput_list.append(net_.system_throughput())\n",
    "\n",
    "ax: Axes\n",
    "fig, ax = plt.subplots()\n",
    "ax.set_xlabel(\"Lambda disk\")\n",
    "color = \"red\"\n",
    "ax.set_ylabel(\"Utilization\", color=color)\n",
    "ax.plot(lambda_disk_list, sys_utilization_list, color=color)\n",
    "ax.tick_params(axis='y', labelcolor=color)\n",
    "ax_twin = cast(Axes, ax.twinx())\n",
    "color = \"blue\"\n",
    "ax_twin.set_ylabel(\"throughput\", color=color)\n",
    "ax_twin.plot(lambda_disk_list, sys_throughput_list, color=color)\n",
    "ax_twin.tick_params(axis='y', labelcolor=color)"
   ]
  }
 ],
 "metadata": {
  "language_info": {
   "name": "python"
  }
 },
 "nbformat": 4,
 "nbformat_minor": 2
}

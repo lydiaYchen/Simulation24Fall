{
 "cells": [
  {
   "cell_type": "markdown",
   "metadata": {},
   "source": [
    "## Coding exercises"
   ]
  },
  {
   "cell_type": "code",
   "execution_count": null,
   "metadata": {},
   "outputs": [],
   "source": [
    "from typing import Generator\n",
    "\n",
    "import matplotlib.pyplot as plt\n",
    "import numpy as np\n",
    "import simpy\n",
    "from matplotlib.axes import Axes\n",
    "from matplotlib.figure import Figure\n",
    "\n",
    "RNG = np.random.default_rng(seed=0)"
   ]
  },
  {
   "cell_type": "markdown",
   "metadata": {},
   "source": [
    "All examples use SimPy to streamline simulations."
   ]
  },
  {
   "cell_type": "markdown",
   "metadata": {},
   "source": [
    "### 1. Simple closed queueing network"
   ]
  },
  {
   "attachments": {
    "simple_closed.png": {
     "image/png": "[encoded data removed]"
    }
   },
   "cell_type": "markdown",
   "metadata": {},
   "source": [
    "Implement a simulation for a closed queuing network with one CPU and one job in the loop.\n",
    "The CPU processing times (in seconds) should be exponentially distributed with $\\lambda_{S}=0.2$.\n",
    "Run the simulation up until 10 seconds and print out what is happening in the system during state updates.\n",
    "\n",
    "![simple_closed.png](attachment:simple_closed.png)"
   ]
  },
  {
   "cell_type": "code",
   "execution_count": null,
   "metadata": {},
   "outputs": [],
   "source": [
    "class SimpleClosedNet:\n",
    "    def __init__(self, lambda_s:float) -> None:\n",
    "        self.env = simpy.Environment()\n",
    "        self.beta_s = 1. / lambda_s\n",
    "        self.cpu = simpy.Resource(self.env, capacity=1)\n",
    "\n",
    "    def cpu_generator(self) -> Generator:\n",
    "        job_iter = 1\n",
    "\n",
    "        while True:\n",
    "            with self.cpu.request() as request:\n",
    "                print(f\"Time {self.env.now:.4f}:\\tjob iter {job_iter} waiting for CPU\")\n",
    "                yield request\n",
    "                print(f\"Time {self.env.now:.4f}:\\tjob iter {job_iter} starts using CPU\")\n",
    "                yield self.env.timeout(RNG.exponential(scale=self.beta_s))\n",
    "                print(f\"Time {self.env.now:.4f}:\\tjob iter {job_iter} finished using CPU\")\n",
    "\n",
    "            job_iter += 1\n",
    "\n",
    "    def run(self, t: float) -> None:\n",
    "        self.env.process(self.cpu_generator())\n",
    "        self.env.run(until=t)"
   ]
  },
  {
   "cell_type": "code",
   "execution_count": null,
   "metadata": {},
   "outputs": [],
   "source": [
    "simple_closed_net = SimpleClosedNet(0.2)\n",
    "simple_closed_net.run(10)"
   ]
  },
  {
   "cell_type": "markdown",
   "metadata": {},
   "source": [
    "### 2. Simple open queueing network"
   ]
  },
  {
   "attachments": {
    "simple_open.png": {
     "image/png": "[encoded data removed]"
    }
   },
   "cell_type": "markdown",
   "metadata": {},
   "source": [
    "Implement a simulation for an open queuing network with one CPU.\n",
    "The job interarrival and processing times should be exponentially distributed with $\\lambda_{I}=0.6$ and $\\lambda_{S}=0.2$, respectively.\n",
    "Run the simulation up until 40 seconds and print out what is happening in the system during state updates.\n",
    "\n",
    "![simple_open.png](attachment:simple_open.png)"
   ]
  },
  {
   "cell_type": "code",
   "execution_count": null,
   "metadata": {},
   "outputs": [],
   "source": [
    "class SimpleOpenNet:\n",
    "    def __init__(self, lambda_i: float, lambda_s: float) -> None:\n",
    "        self.env = simpy.Environment()\n",
    "        self.beta_i = 1. / lambda_i\n",
    "        self.beta_s = 1. / lambda_s\n",
    "        self.cpu = simpy.Resource(self.env, capacity=1)\n",
    "\n",
    "    def cpu_generator(self, job_id: int) -> Generator:\n",
    "        with self.cpu.request() as request:\n",
    "            print(f\"Time {self.env.now:.4f}:\\tjob id {job_id} arriving to CPU\")\n",
    "            yield request\n",
    "            print(f\"Time {self.env.now:.4f}:\\tjob id {job_id} starts using CPU\")\n",
    "            yield self.env.timeout(RNG.exponential(scale=self.beta_s))\n",
    "            print(f\"Time {self.env.now:.4f}:\\tjob {job_id} finished using CPU\")\n",
    "\n",
    "    def job_generator(self) -> Generator:\n",
    "        job_id = 0\n",
    "\n",
    "        while True:\n",
    "            yield self.env.timeout(RNG.exponential(self.beta_i))\n",
    "            self.env.process(self.cpu_generator(job_id))\n",
    "            job_id += 1\n",
    "\n",
    "    def run(self, t: float) -> None:\n",
    "        self.env.process(self.job_generator())\n",
    "        self.env.run(until=t)"
   ]
  },
  {
   "cell_type": "code",
   "execution_count": null,
   "metadata": {},
   "outputs": [],
   "source": [
    "simple_open_net = SimpleOpenNet(0.6, 0.2)\n",
    "simple_open_net.run(40)"
   ]
  },
  {
   "cell_type": "markdown",
   "metadata": {},
   "source": [
    "### 3. (Closed) network throughput with successive queues & multiple jobs"
   ]
  },
  {
   "attachments": {
    "successive_closed.png": {
     "image/png": "[encoded data removed]"
    }
   },
   "cell_type": "markdown",
   "metadata": {},
   "source": [
    "Implement a simulation for a closed queuing network with one CPU followed by one disk and two jobs in the loop.\n",
    "The CPU and disk processing times (in seconds) should be exponentially distributed with $\\lambda_{S\\_CPU}=0.2$ and $\\lambda_{S\\_DISK}=0.1$.\n",
    "Run the simulation up until 40 seconds and print out what is happening in the system during state updates.\n",
    "\n",
    "![successive_closed.png](attachment:successive_closed.png)\n",
    "\n",
    "*Metric*:\n",
    "After running the simulation once, rerun it 5 times for each of the following time durations, collecting the mean system throughput (in compelted jobs per second): 100, 1_000, and 10_000.\n",
    "A completion entails any of the two jobs looping through the system once, starting and ending with arriving into the queue for CPU execution.\n",
    "Create a barplot with the mean/min/max throughput for the three durations.\n",
    "You may disable the prints for runs after the first one."
   ]
  },
  {
   "cell_type": "code",
   "execution_count": null,
   "metadata": {},
   "outputs": [],
   "source": [
    "class SuccessiveClosedNet:\n",
    "    def __init__(self, lambda_s_cpu: float, lambda_s_disk: float, printing: bool) -> None:\n",
    "        self.env = simpy.Environment()\n",
    "        self.beta_s_cpu = 1. / lambda_s_cpu\n",
    "        self.beta_s_disk = 1. / lambda_s_disk\n",
    "        self.printing = printing\n",
    "        self.cpu = simpy.Resource(self.env, capacity=1)\n",
    "        self.disk = simpy.Resource(self.env, capacity=1)\n",
    "        self.n_jobs = 0\n",
    "\n",
    "    def print(self, *values: str) -> None:\n",
    "        if self.printing:\n",
    "            print(*values)\n",
    "\n",
    "    def cpu_disk_generator(self, job_id: int) -> Generator:\n",
    "        job_iter = 1\n",
    "\n",
    "        while True:\n",
    "            with self.cpu.request() as request:\n",
    "                self.print(\n",
    "                    f\"Time {self.env.now:.4f}:\\tjob id {job_id} iter {job_iter} waiting for CPU\")\n",
    "                yield request\n",
    "                self.print(\n",
    "                    f\"Time {self.env.now:.4f}:\\tjob id {job_id} iter {job_iter} starts using CPU\")\n",
    "                yield self.env.timeout(RNG.exponential(scale=self.beta_s_cpu))\n",
    "                self.print(\n",
    "                    f\"Time {self.env.now:.4f}:\\tjob id {job_id} iter {job_iter} finished using CPU\")\n",
    "\n",
    "            with self.disk.request() as request:\n",
    "                self.print(\n",
    "                    f\"Time {self.env.now:.4f}:\\tjob id {job_id} iter {job_iter} waiting for disk\")\n",
    "                yield request\n",
    "                self.print(\n",
    "                    f\"Time {self.env.now:.4f}:\\tjob id {job_id} iter {job_iter} starts using disk\")\n",
    "                yield self.env.timeout(RNG.exponential(scale=self.beta_s_disk))\n",
    "                self.print(\n",
    "                    f\"Time {self.env.now:.4f}:\\tjob id {job_id} iter {job_iter}\",\n",
    "                    \"finished using disk\")\n",
    "\n",
    "            job_iter += 1\n",
    "            self.n_jobs += 1\n",
    "\n",
    "    def run(self, t: float) -> None:\n",
    "        self.env.process(self.cpu_disk_generator(0))\n",
    "        self.env.process(self.cpu_disk_generator(1))\n",
    "        self.env.run(t)\n",
    "\n",
    "    def system_throughput(self) -> float:\n",
    "        return self.n_jobs / self.env.now"
   ]
  },
  {
   "cell_type": "code",
   "execution_count": null,
   "metadata": {},
   "outputs": [],
   "source": [
    "successive_lambda_s_cpu = 0.2\n",
    "successive_lambda_s_disk = 0.1\n",
    "\n",
    "successive_closed_net = SuccessiveClosedNet(successive_lambda_s_cpu, successive_lambda_s_disk, True)\n",
    "successive_closed_net.run(40)"
   ]
  },
  {
   "cell_type": "code",
   "execution_count": null,
   "metadata": {},
   "outputs": [],
   "source": [
    "def plot_system_throughput(sim_lengths: list[int], n_repetitions: int) -> Figure:\n",
    "    throughputs = np.empty((len(sim_lengths), n_repetitions))\n",
    "\n",
    "    for i, length in enumerate(sim_lengths):\n",
    "        for j in range(n_repetitions):\n",
    "            net = SuccessiveClosedNet(\n",
    "                successive_lambda_s_cpu, successive_lambda_s_disk, False)\n",
    "            net.run(length)\n",
    "            throughputs[i][j] = net.system_throughput()\n",
    "\n",
    "    ax: Axes\n",
    "    fig, ax = plt.subplots()\n",
    "    ax.set_xlabel(\"Simulation length\")\n",
    "    ax.set_ylabel(\"System throughput\")\n",
    "    sim_length_strs = [str(length) for length in sim_lengths]\n",
    "    mean_throughputs = throughputs.mean(axis=-1)\n",
    "    ax.bar(\n",
    "        x=sim_length_strs,\n",
    "        height=mean_throughputs)\n",
    "    ax.errorbar(\n",
    "        x=sim_length_strs, y=mean_throughputs,\n",
    "        yerr=[\n",
    "            mean_throughputs - throughputs.min(axis=-1),\n",
    "            throughputs.max(axis=-1) - mean_throughputs],\n",
    "        fmt='o', color='k')\n",
    "    plt.close(fig)\n",
    "\n",
    "    return fig"
   ]
  },
  {
   "cell_type": "code",
   "execution_count": null,
   "metadata": {},
   "outputs": [],
   "source": [
    "plot_system_throughput([100, 1_000, 10_000], 5)"
   ]
  },
  {
   "cell_type": "markdown",
   "metadata": {},
   "source": [
    "### 4. (Open) network response time with split queues"
   ]
  },
  {
   "attachments": {
    "split_open.png": {
     "image/png": "[encoded data removed]"
    }
   },
   "cell_type": "markdown",
   "metadata": {},
   "source": [
    "Implement a simulation for an open queuing network where each job passes through one of two CPUs with equal probability.\n",
    "The job interarrival times should be exponentially distributed with $\\lambda_{I}=0.6$.\n",
    "Consider one fast CPU and one slow CPU having exponentially distributed processing times with $\\lambda_{S\\_fast}=1.0$ and $\\lambda_{S\\_slow}=0.4$, respectively.\n",
    "Run the simulation up until 10 seconds and print out what is happening in the system during state updates.\n",
    "\n",
    "![split_open.png](attachment:split_open.png)\n",
    "\n",
    "*Metric*:\n",
    "After running the simulation once, rerun it 5 times for each of the following time durations, collecting the mean response time (in seconds): 100, 1_000, 10_000, and 20_000.\n",
    "Create a barplot with the mean/min/max time for the three durations.\n",
    "You may disable the prints for runs after the first one."
   ]
  },
  {
   "cell_type": "code",
   "execution_count": null,
   "metadata": {},
   "outputs": [],
   "source": [
    "class SplitOpenNet:\n",
    "    def __init__(\n",
    "            self, lambda_i: float,\n",
    "            lambda_s_fast: float, lambda_s_slow: float,\n",
    "            printing: bool) -> None:\n",
    "        self.env = simpy.Environment()\n",
    "        self.beta_i = 1. / lambda_i\n",
    "        self.beta_s_fast = 1. / lambda_s_fast\n",
    "        self.beta_s_slow = 1. / lambda_s_slow\n",
    "        self.printing = printing\n",
    "        self.cpu_fast = simpy.Resource(self.env, capacity=1)\n",
    "        self.cpu_slow = simpy.Resource(self.env, capacity=1)\n",
    "        self.n_jobs = 0\n",
    "        self.response_time_acc = 0.\n",
    "\n",
    "    def print(self, *values: str) -> None:\n",
    "        if self.printing:\n",
    "            print(*values)\n",
    "\n",
    "    def cpu_generator(self, job_id: int) -> Generator:\n",
    "        self.n_jobs += 1\n",
    "        job_start_time = self.env.now\n",
    "        speed = RNG.choice([\"fast\", \"slow\"])\n",
    "\n",
    "        if speed == \"fast\":\n",
    "            cpu = self.cpu_fast\n",
    "            beta_s = self.beta_s_fast\n",
    "        else:\n",
    "            cpu = self.cpu_slow\n",
    "            beta_s = self.beta_s_slow\n",
    "\n",
    "        with cpu.request() as request:\n",
    "            self.print(f\"Time {self.env.now:.4f}:\\tjob id {job_id} arriving to {speed} CPU\")\n",
    "            yield request\n",
    "            self.print(f\"Time {self.env.now:.4f}:\\tjob id {job_id} starts using {speed} CPU\")\n",
    "            yield self.env.timeout(RNG.exponential(scale=beta_s))\n",
    "            self.print(f\"Time {self.env.now:.4f}:\\tjob {job_id} finished using {speed} CPU\")\n",
    "\n",
    "        self.response_time_acc += self.env.now - job_start_time\n",
    "\n",
    "    def job_generator(self) -> Generator:\n",
    "        while True:\n",
    "            yield self.env.timeout(RNG.exponential(self.beta_i))\n",
    "            self.env.process(self.cpu_generator(self.n_jobs))\n",
    "\n",
    "    def run(self, t: float) -> None:\n",
    "        self.env.process(self.job_generator())\n",
    "        self.env.run(until=t)\n",
    "\n",
    "    def response_time(self) -> float:\n",
    "        return self.response_time_acc / self.n_jobs"
   ]
  },
  {
   "cell_type": "code",
   "execution_count": null,
   "metadata": {},
   "outputs": [],
   "source": [
    "split_lambda_i = 0.6\n",
    "split_lambda_s_fast = 1.0\n",
    "split_lambda_s_slow = 0.4\n",
    "\n",
    "split_open_net = SplitOpenNet(split_lambda_i, split_lambda_s_fast, split_lambda_s_slow, True)\n",
    "split_open_net.run(10)"
   ]
  },
  {
   "cell_type": "code",
   "execution_count": null,
   "metadata": {},
   "outputs": [],
   "source": [
    "def plot_response_time(sim_lengths: list[int], n_repetitions: int) -> Figure:\n",
    "    times = np.empty((len(sim_lengths), n_repetitions))\n",
    "\n",
    "    for i, length in enumerate(sim_lengths):\n",
    "        for j in range(n_repetitions):\n",
    "            net = SplitOpenNet(\n",
    "                split_lambda_i, split_lambda_s_fast, split_lambda_s_slow, False)\n",
    "            net.run(length)\n",
    "            times[i][j] = net.response_time()\n",
    "\n",
    "    ax: Axes\n",
    "    fig, ax = plt.subplots()\n",
    "    ax.set_xlabel(\"Simulation length\")\n",
    "    ax.set_ylabel(\"Response time\")\n",
    "    sim_length_strs = [str(length) for length in sim_lengths]\n",
    "    mean_times = times.mean(axis=-1)\n",
    "    ax.bar(\n",
    "        x=sim_length_strs,\n",
    "        height=mean_times)\n",
    "    ax.errorbar(\n",
    "        x=sim_length_strs, y=mean_times,\n",
    "        yerr=[\n",
    "            mean_times - times.min(axis=-1),\n",
    "            times.max(axis=-1) - mean_times],\n",
    "        fmt='o', color='k')\n",
    "    plt.close(fig)\n",
    "\n",
    "    return fig"
   ]
  },
  {
   "cell_type": "code",
   "execution_count": null,
   "metadata": {},
   "outputs": [],
   "source": [
    "plot_response_time([100, 1_000, 10_000, 20_000], 5)"
   ]
  },
  {
   "cell_type": "markdown",
   "metadata": {},
   "source": [
    "## Book exercises"
   ]
  },
  {
   "cell_type": "markdown",
   "metadata": {},
   "source": [
    "### Chapter 14"
   ]
  },
  {
   "cell_type": "markdown",
   "metadata": {},
   "source": [
    "Exercises 14.1, 14.2, 14.3"
   ]
  }
 ],
 "metadata": {
  "language_info": {
   "name": "python"
  }
 },
 "nbformat": 4,
 "nbformat_minor": 2
}

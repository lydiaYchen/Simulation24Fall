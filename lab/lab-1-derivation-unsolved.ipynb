{
 "cells": [
  {
   "cell_type": "markdown",
   "metadata": {},
   "source": [
    "# Simulation Lab 1: Derivation"
   ]
  },
  {
   "cell_type": "markdown",
   "metadata": {},
   "source": [
    "## Book exercises"
   ]
  },
  {
   "cell_type": "markdown",
   "metadata": {},
   "source": [
    "### Chapter 3"
   ]
  },
  {
   "cell_type": "markdown",
   "metadata": {},
   "source": [
    "Exercises 3.1 - 3.8"
   ]
  },
  {
   "cell_type": "markdown",
   "metadata": {},
   "source": [
    "### Chapter 4"
   ]
  },
  {
   "cell_type": "markdown",
   "metadata": {},
   "source": [
    "Exercises 4.1 - 4.9"
   ]
  },
  {
   "cell_type": "markdown",
   "metadata": {},
   "source": [
    "### Chapter 5"
   ]
  },
  {
   "cell_type": "markdown",
   "metadata": {},
   "source": [
    "Exercises 5.1 - 5.6"
   ]
  },
  {
   "cell_type": "markdown",
   "metadata": {},
   "source": [
    "## Coding exercises"
   ]
  },
  {
   "cell_type": "code",
   "execution_count": 1,
   "metadata": {},
   "outputs": [],
   "source": [
    "from typing import Literal\n",
    "\n",
    "import matplotlib.pyplot as plt\n",
    "from matplotlib.axes import Axes\n",
    "from matplotlib.figure import Figure\n",
    "import numpy as np\n",
    "import scipy.stats\n",
    "\n",
    "N_SAMPLES = 1000\n",
    "# Random number generator:\n",
    "# Set the seed to None to get different sequences of values between restarts\n",
    "# Set it to a number to get the same sequences of values between restarts\n",
    "RNG = np.random.default_rng(seed=0)"
   ]
  },
  {
   "cell_type": "markdown",
   "metadata": {},
   "source": [
    "### 1. Empirical mean/variance checks"
   ]
  },
  {
   "cell_type": "markdown",
   "metadata": {},
   "source": [
    "Consider Binomial distributions with $n=10$.\n",
    "\n",
    "Generate a random parameterization $p$ for it, without inspecting the value.\n",
    "\n",
    "Draw a large (e.g., 1000) number of samples.\n",
    "\n",
    "Estimate the mean and variance from the samples.\n",
    "\n",
    "Knowing the distribution type, try to recover the parameterization from the mean estimate.\n",
    "\n",
    "Inspect the true parameterization and get the corresponding statistical mean/variance values.\n",
    "\n",
    "Compare the estimated mean/variance/parameterization with the true one.\n",
    "\n",
    "Repeat for the other distributions from class: Bernoulli $(p)$, Geometric $(p)$, and Poisson $(\\lambda)$."
   ]
  },
  {
   "cell_type": "code",
   "execution_count": 2,
   "metadata": {},
   "outputs": [],
   "source": [
    "def get_rand_param(low: float, high: float, n_decimals=2) -> np.floating:\n",
    "    ..."
   ]
  },
  {
   "cell_type": "code",
   "execution_count": 3,
   "metadata": {},
   "outputs": [],
   "source": [
    "def estimate_mean(samples: np.ndarray) -> np.floating:\n",
    "    ..."
   ]
  },
  {
   "cell_type": "code",
   "execution_count": 4,
   "metadata": {},
   "outputs": [],
   "source": [
    "def estimate_var(samples: np.ndarray) -> np.floating:\n",
    "    ..."
   ]
  },
  {
   "cell_type": "code",
   "execution_count": 5,
   "metadata": {},
   "outputs": [],
   "source": [
    "def compare_est_stat(\n",
    "        distr: scipy.stats.distributions.rv_frozen,\n",
    "        est_mean: np.floating, est_var: np.floating,\n",
    "        true_param: np.floating, mean_est_param: np.floating) -> None:\n",
    "    true_mean: np.floating\n",
    "    true_var: np.floating\n",
    "    true_mean, true_var = distr.stats(moments='mv')\n",
    "    print(\n",
    "        f\"True mean: {true_mean.round(4)} | \"\n",
    "        f\"Estimated mean: {est_mean.round(4)} | \"\n",
    "        f\"Absolute difference: {np.absolute(true_mean - est_mean).round(4)}\")\n",
    "    print(\n",
    "        f\"True variance: {true_var.round(4)} | \"\n",
    "        f\"Estimated variance: {est_var.round(4)} | \"\n",
    "        f\"Absolute difference: {np.absolute(true_var - est_var).round(4)}\")\n",
    "    print(f\"True parameter: {true_param}\")\n",
    "    print(\n",
    "        f\"Mean-estimated parameter: {mean_est_param.round(4)} | \"\n",
    "        f\"Absolute difference: {np.absolute(true_param - mean_est_param).round(4)}\")"
   ]
  },
  {
   "cell_type": "markdown",
   "metadata": {},
   "source": [
    "#### Binomial"
   ]
  },
  {
   "cell_type": "code",
   "execution_count": null,
   "metadata": {},
   "outputs": [],
   "source": [
    "binom_n = 10\n",
    "binom_true_param = get_rand_param(low=0.1, high=0.9, n_decimals=2)\n",
    "binom_distr = scipy.stats.binom(n=binom_n, p=binom_true_param)\n",
    "binom_samples = binom_distr.rvs(size=N_SAMPLES, random_state=RNG)\n",
    "binom_est_mean = estimate_mean(binom_samples)\n",
    "binom_est_var = estimate_var(binom_samples)\n",
    "binom_mean_est_p: np.floating = binom_est_mean / binom_n\n",
    "compare_est_stat(\n",
    "    binom_distr,\n",
    "    binom_est_mean, binom_est_var,\n",
    "    binom_true_param, binom_mean_est_p)"
   ]
  },
  {
   "cell_type": "markdown",
   "metadata": {},
   "source": [
    "#### Bernoulli"
   ]
  },
  {
   "cell_type": "code",
   "execution_count": null,
   "metadata": {},
   "outputs": [],
   "source": [
    "..."
   ]
  },
  {
   "cell_type": "markdown",
   "metadata": {},
   "source": [
    "#### Geometric"
   ]
  },
  {
   "cell_type": "code",
   "execution_count": null,
   "metadata": {},
   "outputs": [],
   "source": [
    "..."
   ]
  },
  {
   "cell_type": "markdown",
   "metadata": {},
   "source": [
    "#### Poisson"
   ]
  },
  {
   "cell_type": "code",
   "execution_count": null,
   "metadata": {},
   "outputs": [],
   "source": [
    "..."
   ]
  },
  {
   "cell_type": "markdown",
   "metadata": {},
   "source": [
    "### 2. P.M.F. and C.D.F. plotting"
   ]
  },
  {
   "cell_type": "markdown",
   "metadata": {},
   "source": [
    "Again, consider the samples from each distribution in the last exercise.\n",
    "\n",
    "Use them to plot each distribution's probability mass function and cumulative probability function."
   ]
  },
  {
   "cell_type": "code",
   "execution_count": 10,
   "metadata": {},
   "outputs": [],
   "source": [
    "def plot(samples: np.ndarray, type: Literal[\"pmf\", \"cdf\"], title: str) -> Figure:\n",
    "    ..."
   ]
  },
  {
   "cell_type": "markdown",
   "metadata": {},
   "source": [
    "#### Binomial"
   ]
  },
  {
   "cell_type": "code",
   "execution_count": null,
   "metadata": {},
   "outputs": [],
   "source": [
    "fig_binom_pmf = plot(\n",
    "    binom_samples, \"pmf\", f\"Binomial (n={binom_n}, p={binom_true_param}) estimated P.M.F.\")"
   ]
  },
  {
   "cell_type": "code",
   "execution_count": null,
   "metadata": {},
   "outputs": [],
   "source": [
    "fig_binom_cdf = plot(\n",
    "    binom_samples, \"cdf\", f\"Binomial (n={binom_n}, p={binom_true_param}) estimated C.D.F.\")"
   ]
  },
  {
   "cell_type": "markdown",
   "metadata": {},
   "source": [
    "#### Bernoulli"
   ]
  },
  {
   "cell_type": "code",
   "execution_count": null,
   "metadata": {},
   "outputs": [],
   "source": [
    "..."
   ]
  },
  {
   "cell_type": "code",
   "execution_count": null,
   "metadata": {},
   "outputs": [],
   "source": [
    "..."
   ]
  },
  {
   "cell_type": "markdown",
   "metadata": {},
   "source": [
    "#### Geometric"
   ]
  },
  {
   "cell_type": "code",
   "execution_count": null,
   "metadata": {},
   "outputs": [],
   "source": [
    "..."
   ]
  },
  {
   "cell_type": "code",
   "execution_count": null,
   "metadata": {},
   "outputs": [],
   "source": [
    "..."
   ]
  },
  {
   "cell_type": "markdown",
   "metadata": {},
   "source": [
    "#### Poisson"
   ]
  },
  {
   "cell_type": "code",
   "execution_count": null,
   "metadata": {},
   "outputs": [],
   "source": [
    "..."
   ]
  },
  {
   "cell_type": "code",
   "execution_count": null,
   "metadata": {},
   "outputs": [],
   "source": [
    "..."
   ]
  },
  {
   "cell_type": "markdown",
   "metadata": {},
   "source": [
    "### 3. Linearity of expectation"
   ]
  },
  {
   "cell_type": "markdown",
   "metadata": {},
   "source": [
    "Consider the example of the drinking game from the lectures.\n",
    "\n",
    "People at the party do not remember which cup was originally theirs, so they grab one at random.\n",
    "\n",
    "Because sampling happens without replacement, the people's random variables are not independent.\n",
    "\n",
    "Thus, verify that the linearity of expectation holds via simulation."
   ]
  },
  {
   "cell_type": "code",
   "execution_count": 19,
   "metadata": {},
   "outputs": [],
   "source": [
    "n_people = 10\n",
    "# Index i represents the s-th simulation\n",
    "# The value at the index is the number of people who got back their cup\n",
    "drinking_samples = np.empty(N_SAMPLES, dtype=int)\n",
    "\n",
    "for i in range(N_SAMPLES):\n",
    "    ..."
   ]
  },
  {
   "cell_type": "code",
   "execution_count": null,
   "metadata": {},
   "outputs": [],
   "source": [
    "drinking_simulations_mean = estimate_mean(drinking_samples)\n",
    "f\"Mean for the number of people who get their own cup back over the simulations: {drinking_simulations_mean:.4f}\""
   ]
  },
  {
   "cell_type": "code",
   "execution_count": null,
   "metadata": {},
   "outputs": [],
   "source": []
  }
 ],
 "metadata": {
  "kernelspec": {
   "display_name": ".venv",
   "language": "python",
   "name": "python3"
  },
  "language_info": {
   "codemirror_mode": {
    "name": "ipython",
    "version": 3
   },
   "file_extension": ".py",
   "mimetype": "text/x-python",
   "name": "python",
   "nbconvert_exporter": "python",
   "pygments_lexer": "ipython3",
   "version": "3.10.12"
  }
 },
 "nbformat": 4,
 "nbformat_minor": 2
}

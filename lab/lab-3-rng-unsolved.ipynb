{
 "cells": [
  {
   "cell_type": "markdown",
   "metadata": {},
   "source": [
    "## Book exercises"
   ]
  },
  {
   "cell_type": "markdown",
   "metadata": {},
   "source": [
    "### Chapter 13"
   ]
  },
  {
   "cell_type": "markdown",
   "metadata": {},
   "source": [
    "Exercises 13.1, 13.2, 13.5"
   ]
  },
  {
   "cell_type": "markdown",
   "metadata": {},
   "source": [
    "## Coding exercises"
   ]
  },
  {
   "cell_type": "code",
   "execution_count": null,
   "metadata": {},
   "outputs": [],
   "source": [
    "from typing import Any, Callable, Sequence, cast\n",
    "\n",
    "import matplotlib.animation as animation\n",
    "import matplotlib.pyplot as plt\n",
    "import numpy as np\n",
    "import scipy.optimize\n",
    "from IPython.display import HTML\n",
    "import scipy.stats\n",
    "from matplotlib.axes import Axes\n",
    "from matplotlib.figure import Figure\n",
    "from scipy.stats._distn_infrastructure import (rv_continuous_frozen,\n",
    "                                               rv_discrete_frozen)\n",
    "\n",
    "RNG = np.random.default_rng(seed=0)\n",
    "N_LINSPACE_SAMPLES=100\n",
    "PLOT_LINE_WIDTH=3"
   ]
  },
  {
   "cell_type": "markdown",
   "metadata": {},
   "source": [
    "### 1. Inverse transform for continuous random variables"
   ]
  },
  {
   "cell_type": "markdown",
   "metadata": {},
   "source": [
    "-   Implement a function named `sample_inverse_transform` that takes as inputs the target random variable $X$ and the number of samples to return an array with all drawn samples.\n",
    "\n",
    "    **Hint:** SciPy's `rv_frozen_continuous`/`rv_frozen_discrete` represent continous/discrete distributions from a known family (e.g., exponential/geometric) after their parameters are fixed.\n",
    "\n",
    "    The `ppf` function of a random variable $X$ gives $F_X$."
   ]
  },
  {
   "cell_type": "code",
   "execution_count": null,
   "metadata": {},
   "outputs": [],
   "source": [
    "def sample_inverse_transform(\n",
    "        rvc_x: rv_continuous_frozen|rv_discrete_frozen, n_samples: int) -> np.ndarray:\n",
    "    ..."
   ]
  },
  {
   "cell_type": "markdown",
   "metadata": {},
   "source": [
    "-   Implement a function named `plot_inverse_transform_cont` which calls `sample_inverse_transform`, taking in the same input arguments, and uses the results to plot the probability mass function & cumulative density function of $X$ alongside a histogram over the generated samples."
   ]
  },
  {
   "cell_type": "code",
   "execution_count": null,
   "metadata": {},
   "outputs": [],
   "source": [
    "def plot_inverse_transform_cont(rvc_x: rv_continuous_frozen, n_samples: int) -> Figure:\n",
    "    samples = sample_inverse_transform(rvc_x, n_samples)\n",
    "\n",
    "    ax: Axes\n",
    "    fig, ax = plt.subplots()\n",
    "    fig_x_ax = np.linspace(rvc_x.ppf(0.01), rvc_x.ppf(0.99), N_LINSPACE_SAMPLES)\n",
    "    ax.set_xlim(right=fig_x_ax.max())\n",
    "    hist, hist_bins = np.histogram(samples)\n",
    "    rvc_x_pdf_vals = rvc_x.pdf(fig_x_ax)\n",
    "    norm_fact = hist.max() / rvc_x_pdf_vals.max()\n",
    "    ax.set_xlabel(\"t\")\n",
    "    ax.set_ylabel(\"f(t)\")\n",
    "\n",
    "    _ = ax.plot(fig_x_ax, rvc_x_pdf_vals, color='b', lw=PLOT_LINE_WIDTH, label=\"$f_X$\")\n",
    "    _ = ax.plot(fig_x_ax, rvc_x.cdf(fig_x_ax), color='g', lw=PLOT_LINE_WIDTH, label=\"$F_X$\")\n",
    "    _ = ax.stairs(hist / norm_fact, hist_bins, fill=True, color=\"gray\", label=\"Inv Transf\")\n",
    "\n",
    "    ax.legend(frameon=False)\n",
    "\n",
    "    return fig"
   ]
  },
  {
   "cell_type": "markdown",
   "metadata": {},
   "source": [
    "-   Visualize the histogram of 4000 samples drawn to simulate an $Exp(\\lambda=0.5)$ instance against the original probability mass function and inspect the output to verify that the inverse transform sampling behaves correctly."
   ]
  },
  {
   "cell_type": "code",
   "execution_count": null,
   "metadata": {},
   "outputs": [],
   "source": [
    "..."
   ]
  },
  {
   "cell_type": "markdown",
   "metadata": {},
   "source": [
    "### 2. Inverse transform for discrete random variables"
   ]
  },
  {
   "cell_type": "markdown",
   "metadata": {},
   "source": [
    "-   Implement a function named `plot_inverse_transform_disc` as the discrete counterpart of `plot_inverse_transform_cont`."
   ]
  },
  {
   "cell_type": "code",
   "execution_count": null,
   "metadata": {},
   "outputs": [],
   "source": [
    "def plot_inverse_transform_disc(rvd_x: rv_discrete_frozen, n_samples: int) -> Figure:\n",
    "    samples = sample_inverse_transform(rvd_x, n_samples)\n",
    "\n",
    "    ax: Axes\n",
    "    fig, ax = plt.subplots()\n",
    "    fig_x_ax = np.arange(rvd_x.ppf(0.01), rvd_x.ppf(0.99))\n",
    "    rvc_x_pmf_vals = rvd_x.pmf(fig_x_ax)\n",
    "    distr = np.array([(samples == v).sum() for v in fig_x_ax])\n",
    "    norm_fact = distr.max() / rvc_x_pmf_vals.max()\n",
    "\n",
    "    ax.set_xlabel(\"t\")\n",
    "    ax.set_ylabel(\"p(t)\")\n",
    "\n",
    "    _ = ax.bar(\n",
    "        fig_x_ax, rvc_x_pmf_vals,\n",
    "        alpha=0.5, ec='b', lw=PLOT_LINE_WIDTH, fill=False, label=\"$p_X$\")\n",
    "    _ = ax.plot(fig_x_ax, rvd_x.cdf(fig_x_ax), color='g', lw=PLOT_LINE_WIDTH, label=\"$F_X$\")\n",
    "    _ = ax.bar(fig_x_ax, distr / norm_fact, alpha=0.5, color=\"gray\", label=\"Inv Transf\")\n",
    "\n",
    "    ax.legend(frameon=False)\n",
    "\n",
    "    return fig"
   ]
  },
  {
   "cell_type": "markdown",
   "metadata": {},
   "source": [
    "-   Visualize the probability distribution of 4000 samples drawn to simulate a $Geometric(p=0.5)$ instance against the original probability density function and inspect the output to verify that the inverse transform sampling behaves correctly."
   ]
  },
  {
   "cell_type": "code",
   "execution_count": null,
   "metadata": {},
   "outputs": [],
   "source": [
    "..."
   ]
  },
  {
   "cell_type": "markdown",
   "metadata": {},
   "source": [
    "### 3. Accept-reject for continuous random variables"
   ]
  },
  {
   "cell_type": "markdown",
   "metadata": {},
   "source": [
    "-   Define a SciPy class for the continuous random variable from example 1 for continuous random variable accept-reject sampling in the lecture.\n",
    "    \n",
    "    Namely, the random variable $X$ has $f_X(t)=20t(1-t)^3, \\ 0<t<1$.\n",
    "\n",
    "    **Hint:** Only `__init__` and `_pdf` need to be redefined in the new `Ex1` class with parent `scipy.stats.rv_continuous`."
   ]
  },
  {
   "cell_type": "code",
   "execution_count": null,
   "metadata": {},
   "outputs": [],
   "source": [
    "class Ex1(scipy.stats.rv_continuous):\n",
    "    ..."
   ]
  },
  {
   "cell_type": "markdown",
   "metadata": {},
   "source": [
    "-   Implement a function named `sample_accept_reject_cont` that takes as inputs the target/reference continuous random variables $X/Y$ and the number of accepted samples to return a tuple of two arrays with all drawn samples alongside which of them was accepted; generation should stop after reaching the number of target accepted samples.\n",
    "\n",
    "    **Hint:** You can use `scipy.otimize.minimize_scalar` to calculate the minimum value of an expression.\n",
    "    \n",
    "    You will also need a way of drawing from a $Bernoulli$ distribution to determine whether to accept a reject a sample with some probability."
   ]
  },
  {
   "cell_type": "code",
   "execution_count": null,
   "metadata": {},
   "outputs": [],
   "source": [
    "def sample_accept_reject_cont(\n",
    "        rvc_x: rv_continuous_frozen,rvc_y: rv_continuous_frozen,\n",
    "        n_accepted: int) -> tuple[np.ndarray, np.ndarray]:\n",
    "    ..."
   ]
  },
  {
   "cell_type": "markdown",
   "metadata": {},
   "source": [
    "-   Implement a function named `plot_accept_reject_cont` which calls `sample_accept_reject_cont`, taking in the same input arguments, and uses the results to plot the probability density functions of $X/Y$ alongside a histogram over the generated accepted samples."
   ]
  },
  {
   "cell_type": "code",
   "execution_count": null,
   "metadata": {},
   "outputs": [],
   "source": [
    "def plot_accept_reject_cont(\n",
    "        rvc_x: rv_continuous_frozen,\n",
    "        rvc_y: rv_continuous_frozen,\n",
    "        n_accepted: int) -> Figure:\n",
    "    samples, accepts = sample_accept_reject_cont(rvc_x, rvc_y, n_accepted)\n",
    "\n",
    "    ax: Axes\n",
    "    fig, ax = plt.subplots()\n",
    "    fig_x_ax = np.linspace(rvc_x.ppf(0.01), rvc_x.ppf(0.99), N_LINSPACE_SAMPLES)\n",
    "    hist, hist_bins = np.histogram(samples[accepts])\n",
    "    rvc_x_pdf_vals = rvc_x.pdf(fig_x_ax)\n",
    "    norm_fact = hist.max() / rvc_x_pdf_vals.max()\n",
    "    ax.set_xlabel(\"t\")\n",
    "    ax.set_ylabel(\"f(t)\")\n",
    "\n",
    "    _ = ax.plot(fig_x_ax, rvc_x_pdf_vals, color='b', lw=PLOT_LINE_WIDTH, label=\"$f_X$\")\n",
    "    _ = ax.plot(fig_x_ax, rvc_y.pdf(fig_x_ax), color='g', lw=PLOT_LINE_WIDTH, label=\"$f_Y$\")\n",
    "    _ = ax.stairs(hist / norm_fact, hist_bins, fill=True, color=\"gray\", label=\"Acc-Rej\")\n",
    "\n",
    "    ax.legend(frameon=False)\n",
    "\n",
    "    return fig"
   ]
  },
  {
   "cell_type": "markdown",
   "metadata": {},
   "source": [
    "-   Visualize the histogram of 2000 accepted samples drawn with an `Ex1` instance as the target and a $U(0, 1)$ instance as the reference; inspect the output to verify that the accept-reject sampling mimics the target probability density function."
   ]
  },
  {
   "cell_type": "code",
   "execution_count": null,
   "metadata": {},
   "outputs": [],
   "source": [
    "..."
   ]
  },
  {
   "cell_type": "markdown",
   "metadata": {},
   "source": [
    "### 4. Accept-reject for discrete random variables"
   ]
  },
  {
   "cell_type": "markdown",
   "metadata": {},
   "source": [
    "-   Implement a function named `sample_accept_reject_disc` as the discrete counterpart of `sample_accept_reject_cont`.\n",
    "    \n",
    "    **Hint:** You can calculate the value of `c` by directly iterating over all possible values of $Y$ between `ppf(0.01)` and `ppf(0.99)`."
   ]
  },
  {
   "cell_type": "code",
   "execution_count": null,
   "metadata": {},
   "outputs": [],
   "source": [
    "def sample_accept_reject_disc(\n",
    "        rvd_x: rv_discrete_frozen, rvd_y: rv_discrete_frozen,\n",
    "        n_accepted: int) -> tuple[np.ndarray, np.ndarray]:\n",
    "    ..."
   ]
  },
  {
   "cell_type": "markdown",
   "metadata": {},
   "source": [
    "-   Implement a function named `plot_accept_reject_disc` as the discrete counterpart of the `plot_accept_reject_cont`."
   ]
  },
  {
   "cell_type": "code",
   "execution_count": null,
   "metadata": {},
   "outputs": [],
   "source": [
    "def plot_accept_reject_disc(\n",
    "        rvd_x: rv_discrete_frozen,\n",
    "        rvd_y: rv_discrete_frozen,\n",
    "        n_accepted: int) -> Figure:\n",
    "    samples, accepts = sample_accept_reject_disc(rvd_x, rvd_y, n_accepted)\n",
    "\n",
    "    ax: Axes\n",
    "    fig, ax = plt.subplots()\n",
    "    fig_x_ax = np.arange(rvd_y.ppf(0.01), rvd_y.ppf(0.99))\n",
    "    rvc_x_pmf_vals = rvd_x.pmf(fig_x_ax)\n",
    "    accepted_distr = np.array([(samples[accepts] == v).sum() for v in fig_x_ax])\n",
    "    norm_fact = accepted_distr.max() / rvc_x_pmf_vals.max()\n",
    "\n",
    "    ax.set_xlabel(\"t\")\n",
    "    ax.set_ylabel(\"p(t)\")\n",
    "\n",
    "    _ = ax.bar(\n",
    "        fig_x_ax, rvc_x_pmf_vals,\n",
    "        alpha=0.5, ec='b', lw=PLOT_LINE_WIDTH, fill=False, label=\"$p_X$\")\n",
    "    _ = ax.bar(\n",
    "        fig_x_ax, rvd_y.pmf(fig_x_ax),\n",
    "        alpha=0.5, ec='g', lw=PLOT_LINE_WIDTH, fill=False, label=\"$p_Y$\")\n",
    "    _ = ax.bar(fig_x_ax, accepted_distr / norm_fact, alpha=0.5, color=\"gray\", label=\"Acc-Rej\")\n",
    "\n",
    "    ax.legend(frameon=False)\n",
    "\n",
    "    return fig"
   ]
  },
  {
   "cell_type": "markdown",
   "metadata": {},
   "source": [
    "-   Visualize the histogram of 2000 accepted samples drawn with a $Geometric(p=0.5)$ instance as the target and a $Geometric(p=0.25)$ instance as the reference; inspect the output to verify that the accept-reject sampling mimics the target probability mass function."
   ]
  },
  {
   "cell_type": "code",
   "execution_count": null,
   "metadata": {},
   "outputs": [],
   "source": [
    "..."
   ]
  },
  {
   "cell_type": "markdown",
   "metadata": {},
   "source": [
    "### Extra: Animations for continuous random variables"
   ]
  },
  {
   "cell_type": "code",
   "execution_count": null,
   "metadata": {},
   "outputs": [],
   "source": [
    "writer = animation.PillowWriter(fps=10)"
   ]
  },
  {
   "cell_type": "markdown",
   "metadata": {},
   "source": [
    "-   Animation function for inverse transform sampling of continuous random variables:"
   ]
  },
  {
   "cell_type": "code",
   "execution_count": null,
   "metadata": {},
   "outputs": [],
   "source": [
    "def animate_inverse_transform_cont(\n",
    "        rvc_x: rv_continuous_frozen,\n",
    "        n_samples: int) -> tuple[Figure, animation.Animation]:\n",
    "    samples = sample_inverse_transform(rvc_x, n_samples)\n",
    "\n",
    "    ax: Axes\n",
    "    fig, ax = plt.subplots()\n",
    "    fig_x_ax = np.linspace(rvc_x.ppf(0.), rvc_x.ppf(0.99), N_LINSPACE_SAMPLES)\n",
    "    ax.set_xlim(right=fig_x_ax.max())\n",
    "    hist, hist_bins = np.histogram(samples)\n",
    "    rvc_x_pdf_vals = rvc_x.pdf(fig_x_ax)\n",
    "    norm_fact = hist.max() / rvc_x_pdf_vals.max()\n",
    "    first_point, *_ = samples\n",
    "    ax.set_xlabel(\"t\")\n",
    "    ax.set_ylabel(\"f(t)\")\n",
    "\n",
    "    _ =ax.plot(fig_x_ax, rvc_x_pdf_vals, color='b', lw=PLOT_LINE_WIDTH, label=\"$f_X$\")\n",
    "    _ = ax.plot(fig_x_ax, rvc_x.cdf(fig_x_ax), color='g', lw=PLOT_LINE_WIDTH, label=\"$F_X$\")\n",
    "    _, _, bar_container = ax.hist(\n",
    "        [], cast(Sequence[float], hist_bins), ec=\"white\", fc=\"gray\", label=\"Inv Transf\")\n",
    "    scat = ax.scatter(\n",
    "        first_point, rvc_x.cdf(first_point),\n",
    "        s=100, color=\"black\",\n",
    "        zorder=2, animated=True)\n",
    "\n",
    "    patches = bar_container.patches\n",
    "    ax.legend(frameon=False)\n",
    "\n",
    "    def animate(i: int) -> Any:\n",
    "        scat.set_offsets((samples[i], rvc_x.cdf(samples[i])))\n",
    "        n, _ = np.histogram(samples[: i + 1], hist_bins)\n",
    "\n",
    "        for count, rect in zip(n, patches):\n",
    "            rect.set_height(count / norm_fact)\n",
    "\n",
    "        return scat, *patches\n",
    "\n",
    "    ani = animation.FuncAnimation(\n",
    "        fig, animate, repeat=True, frames=len(samples), interval=50, blit=True)\n",
    "    plt.close()\n",
    "\n",
    "    return fig, ani"
   ]
  },
  {
   "cell_type": "markdown",
   "metadata": {},
   "source": [
    "-   Write to file and display inverse transform animation (*warning* - long runtime):"
   ]
  },
  {
   "cell_type": "code",
   "execution_count": null,
   "metadata": {},
   "outputs": [],
   "source": [
    "# fig_ani_inverse_transform, ani_inverse_transform = animate_inverse_transform_cont(expon, 250)\n",
    "# ani_inverse_transform.save(\"inverse_transform.gif\", writer=writer, dpi=250)\n",
    "# HTML(ani_inverse_transform.to_jshtml())"
   ]
  },
  {
   "cell_type": "markdown",
   "metadata": {},
   "source": [
    "-   Animation function for accept-reject sampling of continuous random variables:"
   ]
  },
  {
   "cell_type": "code",
   "execution_count": null,
   "metadata": {},
   "outputs": [],
   "source": [
    "def animate_accept_reject_cont(\n",
    "        rvc_x: rv_continuous_frozen,\n",
    "        rvc_y: rv_continuous_frozen,\n",
    "        n_accepted: int) -> tuple[Figure, animation.Animation]:\n",
    "    samples, accepts = sample_accept_reject_cont(rvc_x, rvc_y, n_accepted)\n",
    "\n",
    "    ax: Axes\n",
    "    fig, ax = plt.subplots()\n",
    "    fig_x_ax = np.linspace(rvc_x.ppf(0.), rvc_x.ppf(0.99), N_LINSPACE_SAMPLES)\n",
    "    hist, hist_bins = np.histogram(samples[accepts])\n",
    "    rvc_x_pdf_vals = rvc_x.pdf(fig_x_ax)\n",
    "    norm_fact = hist.max() / rvc_x_pdf_vals.max()\n",
    "    first_point, *_ = samples\n",
    "    ax.set_xlabel(\"t\")\n",
    "    ax.set_ylabel(\"f(t)\")\n",
    "\n",
    "    _ =ax.plot(fig_x_ax, rvc_x_pdf_vals, color='b', lw=PLOT_LINE_WIDTH, label=\"$f_X$\")\n",
    "    _ = ax.plot(fig_x_ax, rvc_y.pdf(fig_x_ax), color='g', lw=PLOT_LINE_WIDTH, label=\"$f_Y$\")\n",
    "    _, _, bar_container = ax.hist(\n",
    "        [], cast(Sequence[float], hist_bins), ec=\"white\", fc=\"gray\", label=\"Acc-Rej\")\n",
    "    scat = ax.scatter(\n",
    "        first_point, rvc_y.pdf(first_point),\n",
    "        s=100, edgecolors=\"black\",\n",
    "        zorder=2, animated=True)\n",
    "\n",
    "    patches = bar_container.patches\n",
    "    ax.legend(frameon=False)\n",
    "\n",
    "    def animate(i: int) -> Any:\n",
    "        scat.set_offsets((samples[i], rvc_y.pdf(samples[i])))\n",
    "        scat.set_facecolor(\"white\" if accepts[i] else \"red\")\n",
    "        n, _ = np.histogram(samples[: i + 1][accepts[:i + 1]], hist_bins)\n",
    "\n",
    "        for count, rect in zip(n, patches):\n",
    "            rect.set_height(count / norm_fact)\n",
    "\n",
    "        return scat, *patches\n",
    "\n",
    "    ani = animation.FuncAnimation(\n",
    "        fig, animate, repeat=True, frames=len(samples), interval=50, blit=True)\n",
    "    plt.close()\n",
    "\n",
    "    return fig, ani"
   ]
  },
  {
   "cell_type": "markdown",
   "metadata": {},
   "source": [
    "-   Write to file and display accept-reject animation (*warning* - long runtime):"
   ]
  },
  {
   "cell_type": "code",
   "execution_count": null,
   "metadata": {},
   "outputs": [],
   "source": [
    "# fig_ani_accept_reject, ani_accept_reject = animate_accept_reject_cont(ex1, uniform, 250)\n",
    "# ani_accept_reject.save(\"accept_reject.gif\", writer=writer, dpi=250)\n",
    "# HTML(ani_accept_reject.to_jshtml())"
   ]
  },
  {
   "cell_type": "code",
   "execution_count": null,
   "metadata": {},
   "outputs": [],
   "source": []
  }
 ],
 "metadata": {
  "language_info": {
   "name": "python"
  }
 },
 "nbformat": 4,
 "nbformat_minor": 2
}
